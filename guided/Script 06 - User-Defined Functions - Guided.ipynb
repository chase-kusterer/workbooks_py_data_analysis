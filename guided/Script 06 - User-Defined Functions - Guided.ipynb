{
 "cells": [
  {
   "cell_type": "markdown",
   "metadata": {
    "deletable": false,
    "editable": false,
    "run_control": {
     "frozen": true
    }
   },
   "source": [
    "<hr style=\"height:.9px;border:none;color:#333;background-color:#333;\" />\n",
    "<hr style=\"height:.9px;border:none;color:#333;background-color:#333;\" />\n",
    "\n",
    "<br><h1>User-Defined Functions</h1>\n",
    "<em>DAT-7466 In-Class Script</em><br><br>\n",
    "\n",
    "Written by Chase Kusterer - Faculty of Analytics <br>\n",
    "Hult International Business School <br>\n",
    "<a href=\"https://github.com/chase-kusterer\">https://github.com/chase-kusterer</a><br><br><br>\n",
    "\n",
    "<hr style=\"height:.9px;border:none;color:#333;background-color:#333;\" />\n",
    "<hr style=\"height:.9px;border:none;color:#333;background-color:#333;\" />\n",
    "<br>\n",
    "<h2>Part I: Defining Basic Functions</h2>\n",
    "In their most basic form, user-defined functions follow the following framework:\n",
    "<br><br>\n",
    "\n",
    "~~~\n",
    "def FUNCTION_NAME(ARGUMENTS):\n",
    "\n",
    "    FUNCTION BODY\n",
    "\n",
    "    RETURN\n",
    "~~~\n",
    "\n",
    "<br><br>\n",
    "Below is a function with no arguments.\n",
    "<br><hr style=\"height:.9px;border:none;color:#333;background-color:#333;\" />"
   ]
  },
  {
   "cell_type": "code",
   "execution_count": null,
   "metadata": {
    "deletable": false,
    "editable": false
   },
   "outputs": [],
   "source": [
    "# defining a function with no arguments\n",
    "def nice_compliment():\n",
    "    \"\"\"This function returns a nice comment.\"\"\" # docstring\n",
    "       \n",
    "    # storing an object in the LOCAL environment\n",
    "    compliment = \"You look lovely today.\"\n",
    "    \n",
    "    return compliment\n",
    "\n",
    "\n",
    "# running the function in the GLOBAL environment\n",
    "nice_compliment()"
   ]
  },
  {
   "cell_type": "markdown",
   "metadata": {
    "deletable": false,
    "editable": false,
    "run_control": {
     "frozen": true
    }
   },
   "source": [
    "<hr style=\"height:.9px;border:none;color:#333;background-color:#333;\" /><br>\n",
    "Notice the <strong>docstring</strong> in the first line of the function's body. These are very important in helping others to understand what your function does, and also to help <em>you</em> remember after you haven't used the function for some time. We can access the <strong>docstring</strong> by calling <strong>help(&nbsp;)</strong> on the function"
   ]
  },
  {
   "cell_type": "code",
   "execution_count": null,
   "metadata": {
    "deletable": false,
    "editable": false
   },
   "outputs": [],
   "source": [
    "# calling help on the function\n",
    "help(nice_compliment)"
   ]
  },
  {
   "cell_type": "markdown",
   "metadata": {
    "deletable": false,
    "editable": false,
    "run_control": {
     "frozen": true
    }
   },
   "source": [
    "<hr style=\"height:.9px;border:none;color:#333;background-color:#333;\" /><br>\n",
    "Let's enhance <em>nice_compliment(&nbsp;)</em> so that it generates one of three comments at random when the function is called. For this example, we will import the <em>random</em> package within the function. Generally, this is considered a bad practice, but in this case it will help emphasize the difference between the global environment and the function's local environment."
   ]
  },
  {
   "cell_type": "code",
   "execution_count": null,
   "metadata": {
    "deletable": false,
    "editable": false
   },
   "outputs": [],
   "source": [
    "def nice_compliment():\n",
    "    \"\"\" This function returns a nice comment at random. \"\"\"\n",
    "    \n",
    "    # importing random in the LOCAL environment\n",
    "    import random\n",
    "    \n",
    "    # this will generate a random number between one and three\n",
    "    random_number = random.randint(1,3)\n",
    "    \n",
    "    # conditional statement\n",
    "    if random_number == 1:\n",
    "        compliment = \"You look lovely today.\"\n",
    "    \n",
    "    elif random_number == 2:\n",
    "        compliment = \"I feel happier when you are around.\"\n",
    "    \n",
    "    elif random_number == 3:\n",
    "        compliment = \"Today is a great day to be yourself.\"\n",
    "        \n",
    "    # else clause to help catch bugs\n",
    "    else:\n",
    "        compliment = \"This function has bugs.\"\n",
    "    \n",
    "    \n",
    "    # returning compliment\n",
    "    return compliment\n",
    "\n",
    "\n",
    "# running the function in the GLOBAL environment\n",
    "nice_compliment()"
   ]
  },
  {
   "cell_type": "markdown",
   "metadata": {
    "deletable": false,
    "editable": false,
    "run_control": {
     "frozen": true
    }
   },
   "source": [
    "<hr style=\"height:.9px;border:none;color:#333;background-color:#333;\" />\n",
    "<br>\n",
    "In the function above, the object <em>compliment</em> is a local object, meaning it only exists within the function (it has not been defined in the global environment). The same is true for the import of <em>random</em>. Since this package has been imported within the function, its methods are not available in the global environment. If we try to run <em>compliment</em>, or any of the methods from the <em>random</em> package, Python will throw a <a href=\"https://docs.python.org/3/library/exceptions.html#NameError\">NameError</a>."
   ]
  },
  {
   "cell_type": "code",
   "execution_count": null,
   "metadata": {
    "code_folding": [],
    "deletable": false,
    "editable": false
   },
   "outputs": [],
   "source": [
    "# this code will throw an error (compliment is LOCAL)\n",
    "compliment"
   ]
  },
  {
   "cell_type": "markdown",
   "metadata": {
    "deletable": false,
    "editable": false,
    "run_control": {
     "frozen": true
    }
   },
   "source": [
    " "
   ]
  },
  {
   "cell_type": "code",
   "execution_count": null,
   "metadata": {
    "deletable": false,
    "editable": false
   },
   "outputs": [],
   "source": [
    "# this code will throw an error (import of random is LOCAL)\n",
    "random.randint(1,2)"
   ]
  },
  {
   "cell_type": "markdown",
   "metadata": {
    "deletable": false,
    "editable": false,
    "run_control": {
     "frozen": true
    }
   },
   "source": [
    "<br>"
   ]
  },
  {
   "cell_type": "code",
   "execution_count": null,
   "metadata": {
    "deletable": false,
    "editable": false
   },
   "outputs": [],
   "source": [
    "# importing necessary packages\n",
    "import random\n",
    "\n",
    "# instantiating a list of nice compliments\n",
    "compliment_lst = [\"You look lovely today.\",\n",
    "                  \"I feel happier when you are around.\",\n",
    "                  \"Today is a great day to be yourself.\"]\n",
    "\n",
    "\n",
    "# defining a function\n",
    "def nice_compliment(lst):\n",
    "    \"\"\"\n",
    "This function returns one nice compliment from a list of nice\n",
    "compliments. The returned compliment is randomly selected from the list.\n",
    "\n",
    "PARAMETERS\n",
    "----------\n",
    "lst | (list; mandatory) list where compliments are stored\n",
    "\n",
    "\"\"\"\n",
    "\n",
    "    # selecting a compliment\n",
    "    compliment = lst[random.randint(0, len(lst) - 1)]\n",
    "    \n",
    "    \n",
    "    # returning compliment\n",
    "    return compliment"
   ]
  },
  {
   "cell_type": "markdown",
   "metadata": {
    "deletable": false,
    "editable": false,
    "run_control": {
     "frozen": true
    }
   },
   "source": [
    "<hr style=\"height:.9px;border:none;color:#333;background-color:#333;\" /><br>\n",
    "\n",
    "<h4>Exercise 1</h4>\n",
    "Run <em>nice_compliment(&nbsp;)</em> using <em>compliment_lst</em> for the <em>lst</em> argument.<br>"
   ]
  },
  {
   "cell_type": "code",
   "execution_count": null,
   "metadata": {},
   "outputs": [],
   "source": [
    "# running the function\n",
    "nice_compliment(lst = _____)"
   ]
  },
  {
   "cell_type": "markdown",
   "metadata": {
    "deletable": false,
    "editable": false,
    "run_control": {
     "frozen": true
    }
   },
   "source": [
    "<hr style=\"height:.9px;border:none;color:#333;background-color:#333;\" /><br>\n",
    "\n",
    "Notice the syntax <strong>len(lst) - 1</strong> in the function body above. The rationale for <em>-1</em> is for the following reasons:\n",
    "\n",
    "* list indexing starts at zero\n",
    "* <strong>len(&nbsp;)</strong> starts at one\n",
    "\n",
    "Therefore, we need to subtract one from the length of the list so that our code doesn't try to reference an object that is out of range. Additionally, <strong>len(lst) - 1</strong> is useful in that it is effective for lists of any length. By using this technique, the function does not need to be updated every time we add or delete a compliment from <em>compliment_lst</em>."
   ]
  },
  {
   "cell_type": "markdown",
   "metadata": {
    "deletable": false,
    "editable": false,
    "run_control": {
     "frozen": true
    }
   },
   "source": [
    "<br>"
   ]
  },
  {
   "cell_type": "markdown",
   "metadata": {
    "deletable": false,
    "editable": false,
    "run_control": {
     "frozen": true
    }
   },
   "source": [
    "<hr style=\"height:.9px;border:none;color:#333;background-color:#333;\" /><br>\n",
    "\n",
    "<h2>Summary</h2><br>\n",
    "User-defined functions are a powerful way to write code one time and use it over and over again. Objects instantiated in the body of a function have no direct impact on objects in the global environment, unless explicitly programmed to do so (beyond the scope of this course). Optional arguments allow for users to customize the output of a function, and docstrings add value in that they can inform users on what a function is meant to do, give explanations of parameters, and provide usage examples.\n",
    "<br><br>\n",
    "\n",
    "~~~\n",
    "     )                                                   ____ \n",
    "  ( /(        (                        (                |   / \n",
    "  )\\())     ( )\\(     (                )\\ ) (  (     (  |  /  \n",
    " ((_)\\ (   ))((_)(   ))\\    (   (     (()/( )\\ )(   ))\\ | /   \n",
    "__ ((_))\\ /((_)(()\\ /((_)   )\\  )\\ )   /(_)|(_|()\\ /((_)|/    \n",
    "\\ \\ / ((_|_))(  ((_|_))    ((_)_(_/(  (_) _|(_)((_|_)) (      \n",
    " \\ V / _ \\ || || '_/ -_)  / _ \\ ' \\))  |  _|| | '_/ -_))\\     \n",
    "  |_|\\___/\\_,_||_| \\___|  \\___/_||_|   |_|  |_|_| \\___((_)    \n",
    "                                                              \n",
    "~~~"
   ]
  },
  {
   "cell_type": "markdown",
   "metadata": {
    "deletable": false,
    "editable": false,
    "run_control": {
     "frozen": true
    }
   },
   "source": [
    "<br>"
   ]
  }
 ],
 "metadata": {
  "kernelspec": {
   "display_name": "Python 3 (ipykernel)",
   "language": "python",
   "name": "python3"
  },
  "language_info": {
   "codemirror_mode": {
    "name": "ipython",
    "version": 3
   },
   "file_extension": ".py",
   "mimetype": "text/x-python",
   "name": "python",
   "nbconvert_exporter": "python",
   "pygments_lexer": "ipython3",
   "version": "3.11.5"
  },
  "toc": {
   "base_numbering": 1,
   "nav_menu": {},
   "number_sections": false,
   "sideBar": true,
   "skip_h1_title": false,
   "title_cell": "Table of Contents",
   "title_sidebar": "Contents",
   "toc_cell": false,
   "toc_position": {
    "height": "calc(100% - 180px)",
    "left": "10px",
    "top": "150px",
    "width": "288px"
   },
   "toc_section_display": true,
   "toc_window_display": false
  },
  "varInspector": {
   "cols": {
    "lenName": 16,
    "lenType": 16,
    "lenVar": 40
   },
   "kernels_config": {
    "python": {
     "delete_cmd_postfix": "",
     "delete_cmd_prefix": "del ",
     "library": "var_list.py",
     "varRefreshCmd": "print(var_dic_list())"
    },
    "r": {
     "delete_cmd_postfix": ") ",
     "delete_cmd_prefix": "rm(",
     "library": "var_list.r",
     "varRefreshCmd": "cat(var_dic_list()) "
    }
   },
   "types_to_exclude": [
    "module",
    "function",
    "builtin_function_or_method",
    "instance",
    "_Feature"
   ],
   "window_display": false
  }
 },
 "nbformat": 4,
 "nbformat_minor": 2
}
